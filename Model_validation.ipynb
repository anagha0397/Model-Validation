{
 "cells": [
  {
   "cell_type": "markdown",
   "id": "2330192c",
   "metadata": {},
   "source": [
    "# Model Validation Techniques"
   ]
  },
  {
   "cell_type": "markdown",
   "id": "3b874d9e",
   "metadata": {},
   "source": [
    "### Train and test splits"
   ]
  },
  {
   "cell_type": "code",
   "execution_count": 2,
   "id": "2caae539",
   "metadata": {},
   "outputs": [],
   "source": [
    "import pandas as pd\n",
    "from pandas import read_csv\n",
    "from sklearn.model_selection import train_test_split\n",
    "from sklearn.linear_model import LogisticRegression\n",
    "from sklearn.model_selection import KFold \n",
    "from sklearn.model_selection import cross_val_score\n",
    "from sklearn.model_selection import LeaveOneOut\n",
    "import warnings\n",
    "warnings.filterwarnings(\"ignore\")"
   ]
  },
  {
   "cell_type": "code",
   "execution_count": 4,
   "id": "e6025a49",
   "metadata": {},
   "outputs": [],
   "source": [
    "diabetes = \"pima-indians-diabetes.data.csv\""
   ]
  },
  {
   "cell_type": "code",
   "execution_count": 5,
   "id": "05a27e89",
   "metadata": {},
   "outputs": [],
   "source": [
    "names = ['preg', 'plas', 'pres', 'skin', 'test', 'mass', 'pedi', 'age', 'class']"
   ]
  },
  {
   "cell_type": "code",
   "execution_count": 6,
   "id": "c0107da4",
   "metadata": {},
   "outputs": [],
   "source": [
    "dataframe = read_csv(diabetes,names=names)"
   ]
  },
  {
   "cell_type": "code",
   "execution_count": 7,
   "id": "70d2cd9b",
   "metadata": {},
   "outputs": [],
   "source": [
    "array = dataframe.values"
   ]
  },
  {
   "cell_type": "code",
   "execution_count": 8,
   "id": "0e187ce4",
   "metadata": {},
   "outputs": [],
   "source": [
    "x = array[:,0:8]\n",
    "y = array[:,8]"
   ]
  },
  {
   "cell_type": "code",
   "execution_count": 26,
   "id": "0c1bd27c",
   "metadata": {},
   "outputs": [],
   "source": [
    "x_train,x_test,y_train,y_test = train_test_split(x,y, test_size = 0.33,random_state = 7)"
   ]
  },
  {
   "cell_type": "code",
   "execution_count": 27,
   "id": "1613cc7b",
   "metadata": {},
   "outputs": [],
   "source": [
    "model = LogisticRegression()"
   ]
  },
  {
   "cell_type": "code",
   "execution_count": 28,
   "id": "6bd26a8e",
   "metadata": {},
   "outputs": [
    {
     "data": {
      "text/plain": [
       "LogisticRegression()"
      ]
     },
     "execution_count": 28,
     "metadata": {},
     "output_type": "execute_result"
    }
   ],
   "source": [
    "model.fit(x_train,y_train)"
   ]
  },
  {
   "cell_type": "code",
   "execution_count": 29,
   "id": "1ef848d8",
   "metadata": {},
   "outputs": [],
   "source": [
    "result = model.score(x_test,y_test)                         # This will accuracy of the test data and internally predict the new values from x_test data and those predicted values will be compared with the actual values(y_test)"
   ]
  },
  {
   "cell_type": "code",
   "execution_count": 30,
   "id": "2d4a3d38",
   "metadata": {},
   "outputs": [
    {
     "data": {
      "text/plain": [
       "78.74015748031496"
      ]
     },
     "execution_count": 30,
     "metadata": {},
     "output_type": "execute_result"
    }
   ],
   "source": [
    "result*100"
   ]
  },
  {
   "cell_type": "markdown",
   "id": "7eef6b68",
   "metadata": {},
   "source": [
    "Inference: Accuracy of our model is 78.74%"
   ]
  },
  {
   "cell_type": "code",
   "execution_count": null,
   "id": "7fc6a809",
   "metadata": {},
   "outputs": [],
   "source": []
  },
  {
   "cell_type": "markdown",
   "id": "1f9f6e8d",
   "metadata": {},
   "source": [
    "### KFold Cross validation technique"
   ]
  },
  {
   "cell_type": "code",
   "execution_count": 42,
   "id": "df066f17",
   "metadata": {},
   "outputs": [],
   "source": [
    "kfold = KFold(n_splits = 10, random_state = 7, shuffle = True)"
   ]
  },
  {
   "cell_type": "code",
   "execution_count": 43,
   "id": "670484b8",
   "metadata": {},
   "outputs": [],
   "source": [
    "model = LogisticRegression(max_iter = 400)"
   ]
  },
  {
   "cell_type": "code",
   "execution_count": 45,
   "id": "ba71cb02",
   "metadata": {},
   "outputs": [],
   "source": [
    "result = cross_val_score(model, x,y, cv = kfold)"
   ]
  },
  {
   "cell_type": "code",
   "execution_count": 46,
   "id": "a64664e2",
   "metadata": {},
   "outputs": [
    {
     "data": {
      "text/plain": [
       "array([0.83116883, 0.74025974, 0.74025974, 0.80519481, 0.79220779,\n",
       "       0.77922078, 0.66233766, 0.80519481, 0.82894737, 0.73684211])"
      ]
     },
     "execution_count": 46,
     "metadata": {},
     "output_type": "execute_result"
    }
   ],
   "source": [
    "result"
   ]
  },
  {
   "cell_type": "code",
   "execution_count": 47,
   "id": "c2470e03",
   "metadata": {},
   "outputs": [
    {
     "data": {
      "text/plain": [
       "77.21633629528367"
      ]
     },
     "execution_count": 47,
     "metadata": {},
     "output_type": "execute_result"
    }
   ],
   "source": [
    "result.mean()*100"
   ]
  },
  {
   "cell_type": "code",
   "execution_count": 48,
   "id": "4ab67a61",
   "metadata": {},
   "outputs": [
    {
     "data": {
      "text/plain": [
       "4.96837651757489"
      ]
     },
     "execution_count": 48,
     "metadata": {},
     "output_type": "execute_result"
    }
   ],
   "source": [
    "result.std()*100"
   ]
  },
  {
   "cell_type": "code",
   "execution_count": null,
   "id": "d5b0fd69",
   "metadata": {},
   "outputs": [],
   "source": []
  },
  {
   "cell_type": "markdown",
   "id": "19405700",
   "metadata": {},
   "source": [
    "### Leave One Out Cross Validation"
   ]
  },
  {
   "cell_type": "code",
   "execution_count": 9,
   "id": "c0f42356",
   "metadata": {},
   "outputs": [],
   "source": [
    "loo = LeaveOneOut()\n",
    "model = LogisticRegression(max_iter = 400)\n",
    "results = cross_val_score(model, x,y, cv = loo)"
   ]
  },
  {
   "cell_type": "code",
   "execution_count": 10,
   "id": "0b5bb47e",
   "metadata": {},
   "outputs": [
    {
     "data": {
      "text/plain": [
       "77.60416666666666"
      ]
     },
     "execution_count": 10,
     "metadata": {},
     "output_type": "execute_result"
    }
   ],
   "source": [
    "results.mean()*100"
   ]
  },
  {
   "cell_type": "code",
   "execution_count": 12,
   "id": "e14dc8a7",
   "metadata": {},
   "outputs": [
    {
     "data": {
      "text/plain": [
       "41.68944689773287"
      ]
     },
     "execution_count": 12,
     "metadata": {},
     "output_type": "execute_result"
    }
   ],
   "source": [
    "results.std()*100                 # This will give the variations in accuracies among all the folds"
   ]
  },
  {
   "cell_type": "code",
   "execution_count": null,
   "id": "e6ab8bf7",
   "metadata": {},
   "outputs": [],
   "source": []
  }
 ],
 "metadata": {
  "kernelspec": {
   "display_name": "Python 3",
   "language": "python",
   "name": "python3"
  },
  "language_info": {
   "codemirror_mode": {
    "name": "ipython",
    "version": 3
   },
   "file_extension": ".py",
   "mimetype": "text/x-python",
   "name": "python",
   "nbconvert_exporter": "python",
   "pygments_lexer": "ipython3",
   "version": "3.8.8"
  },
  "toc": {
   "base_numbering": 1,
   "nav_menu": {},
   "number_sections": true,
   "sideBar": true,
   "skip_h1_title": false,
   "title_cell": "Table of Contents",
   "title_sidebar": "Contents",
   "toc_cell": false,
   "toc_position": {},
   "toc_section_display": true,
   "toc_window_display": false
  }
 },
 "nbformat": 4,
 "nbformat_minor": 5
}
